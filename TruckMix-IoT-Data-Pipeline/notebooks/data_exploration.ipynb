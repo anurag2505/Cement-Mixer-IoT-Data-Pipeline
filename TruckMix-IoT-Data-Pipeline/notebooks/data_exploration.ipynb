//Import necessary libraries

import pandas as pd
import numpy as np
import matplotlib.pyplot as plt
import seaborn as sns

# Load the sensor data
# Replace 'sensor_data.csv' with the path to your sensor data file
data = pd.read_csv('sensor_data.csv')

# Display the first few rows of the dataset
print("First few rows of the dataset:")
display(data.head())

# Display basic information about the dataset
print("\nBasic information about the dataset:")
display(data.info())

# Display summary statistics of the dataset
print("\nSummary statistics of the dataset:")
display(data.describe())

# Check for missing values
print("\nMissing values in the dataset:")
display(data.isnull().sum())

# Plot histograms for each numeric feature
print("\nHistograms for each numeric feature:")
data.hist(bins=50, figsize=(20, 15))
plt.show()

# Plot correlation matrix
print("\nCorrelation matrix:")
corr_matrix = data.corr()
plt.figure(figsize=(12, 8))
sns.heatmap(corr_matrix, annot=True, cmap='coolwarm')
plt.show()

# Plot time series data for a specific sensor (replace 'sensor_column' with the actual column name)
print("\nTime series plot for a specific sensor:")
plt.figure(figsize=(15, 6))
plt.plot(data['timestamp'], data['sensor_column'])
plt.xlabel('Timestamp')
plt.ylabel('Sensor Value')
plt.title('Time Series Data for Sensor')
plt.show()