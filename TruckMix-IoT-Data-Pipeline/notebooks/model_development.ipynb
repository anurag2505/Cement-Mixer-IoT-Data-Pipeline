# Import necessary libraries
import pandas as pd
import numpy as np
from sklearn.model_selection import train_test_split
from sklearn.linear_model import LinearRegression
from sklearn.metrics import mean_squared_error, r2_score
import matplotlib.pyplot as plt

# Load dataset
# Assuming the dataset is in CSV format and located in the same directory
data = pd.read_csv('data.csv')

# Display the first few rows of the dataset
print(data.head())

# Define the features (X) and the target (y)
X = data[['feature1', 'feature2', 'feature3']]  # Replace with actual feature names
y = data['target']  # Replace with actual target name

# Split the dataset into training and testing sets
X_train, X_test, y_train, y_test = train_test_split(X, y, test_size=0.2, random_state=42)

# Initialize the Linear Regression model
model = LinearRegression()

# Train the model
model.fit(X_train, y_train)

# Make predictions on the test set
y_pred = model.predict(X_test)

# Evaluate the model
mse = mean_squared_error(y_test, y_pred)
r2 = r2_score(y_test, y_pred)

print(f'Mean Squared Error: {mse}')
print(f'R^2 Score: {r2}')

# Plot the results
plt.scatter(y_test, y_pred)
plt.xlabel('Actual Values')
plt.ylabel('Predicted Values')
plt.title('Actual vs Predicted Values')
plt.show()
# Save the model to a file
import joblib
joblib.dump(model, 'linear_regression_model.pkl')

# Load the model from a file (for future use)
# loaded_model = joblib.load('linear_regression_model.pkl')

# Predict using the loaded model (example)
# loaded_model.predict(X_test)